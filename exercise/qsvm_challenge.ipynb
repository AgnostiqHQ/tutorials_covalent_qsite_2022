{
    "cells": [
        {
            "cell_type": "markdown",
            "id": "7e8a8601",
            "metadata": {},
            "source": [
                "# Ever wanted to use a real quantum computer?\n",
                "\n",
                "Good news! Thanks to [*IBM Quantum*](https://quantum-computing.ibm.com/), anyone can access a handful of small QPUs over the cloud, free of charge. In this notebook, we'll use [*Covalent*](http://covalent.xyz) with [*Pennylane*](https://pennylane.ai/) and  *IBM Quantum* hardware to train an SVM classifier with a real quantum kernel circuit.\n",
                "\n",
                "## Preliminaries\n",
                "\n",
                "Visit [quantum-computing.ibm.com](https://quantum-computing.ibm.com/) and sign up for a (free) IBMid.\n",
                "\n",
                "<img src=\"http://drive.google.com/uc?export=view&id=1aK2S4UXwjJ8N07Goq6E3sl40H3l7hnMf\">\n",
                "\n",
                "Next, log in and copy the API token (a string of characters) on the landing page. This will grant programmatic access to IBM's QPUs.\n",
                "\n",
                "<img src=\"http://drive.google.com/uc?export=view&id=1LdYOTq3K4apPXWYTjJYoUsiZ5A11Z8Uy\">\n",
                "\n",
                "Set the `IBM_Q_API_TOKEN` variable in the [Settings](#settings) cell below.\n",
                "\n",
                "*Remember, you should never publish any code that reveals the API token - **including this notebook, once it's completed.***\n",
                "\n",
                "A few more things to note:\n",
                "\n",
                "* QPUs are in high demand. Wait times on the order of hours per task are not unlikely.\n",
                "* Once you have an IBMid, you can monitor and delete/cancel any submitted jobs using the same portal where you obtained the API token.\n",
                "\n",
                "<img src=\"http://drive.google.com/uc?export=view&id=1LYkXBLKkKsvGZJf3syj1ML905gqfGgLr\">\n",
                "\n",
                "That's it! We're good to go.\n",
                "\n",
                "## *Challenge*\n",
                "\n",
                "As is, this notebook runs a toy SVM classification task using parallel calls to the quantum kernel circuit running on a local simulator (Pennylane's `'lightning.qubit'` device). Follow the [Pennylane documentation](https://docs.pennylane.ai/projects/qiskit/en/latest/devices/ibmq.html) and modify the [QPU sub-task](#qpu-sub-task) to use an *IBM Quantum* hardware backend.\n",
                "___________________________________"
            ]
        },
        {
            "cell_type": "markdown",
            "id": "b5b94ae5",
            "metadata": {},
            "source": [
                "# An SVM classifier with a quantum kernel... on real quantum hardware!"
            ]
        },
        {
            "cell_type": "code",
            "execution_count": null,
            "id": "92ba7a9f",
            "metadata": {},
            "outputs": [],
            "source": [
                "import random\n",
                "from math import pi as PI\n",
                "\n",
                "import covalent as ct\n",
                "import matplotlib.pyplot as plt\n",
                "import numpy as np\n",
                "import pennylane as qml\n",
                "from pennylane import numpy as np\n",
                "from sklearn.datasets import load_wine\n",
                "from sklearn.metrics import ConfusionMatrixDisplay, confusion_matrix\n",
                "from sklearn.model_selection import train_test_split\n",
                "from sklearn.preprocessing import MinMaxScaler\n",
                "from sklearn.svm import SVC"
            ]
        },
        {
            "cell_type": "markdown",
            "id": "831fd123",
            "metadata": {},
            "source": [
                "## Data for our example\n",
                "\n",
                "For compatibility with freely-available quantum hardware, we reduce the 'wine recognition' dataset to 6 training and 2 testing samples. Additionally, only two cultivators are considered, 'R' and 'G'.\n",
                "\n",
                "This data reproduced by the `get_data` electron (with `RANDOM_SEED = 2022`) in the [Local sub tasks](#local-sub-tasks) section.\n",
                "\n",
                "**We pursue the same goal in this toy example:** recognize the cultivator based on the wine's *hue* and *colour intensity*.\n",
                "\n",
                "<img src=\"http://drive.google.com/uc?export=view&id=10n4ASvh2SXSijqv-PozPtvI1u7AQbgDi\">"
            ]
        },
        {
            "cell_type": "markdown",
            "id": "0c6788f4",
            "metadata": {},
            "source": [
                "# Settings\n",
                "\n",
                "paste the API token below"
            ]
        },
        {
            "cell_type": "code",
            "execution_count": null,
            "id": "35dd8768",
            "metadata": {},
            "outputs": [],
            "source": [
                "IBM_Q_API_TOKEN = \"paste-your-API-token-here\""
            ]
        },
        {
            "cell_type": "markdown",
            "id": "c81a2aac",
            "metadata": {},
            "source": [
                "no need to modify any of the following settings"
            ]
        },
        {
            "cell_type": "code",
            "execution_count": 1,
            "id": "f5a129ac",
            "metadata": {},
            "outputs": [],
            "source": [
                "N_TEST = 2\n",
                "N_TRAIN = 6\n",
                "N_TOT = N_TEST + N_TRAIN\n",
                "\n",
                "RANDOM_SEED = 2022\n",
                "\n",
                "IBM_HARDWARE_BACKENDS = [\n",
                "    'ibmq_lima',\n",
                "    'ibmq_belem',\n",
                "    'ibmq_quito',\n",
                "    'ibmq_manila',\n",
                "    'ibm_nairobi',\n",
                "    'ibm_oslo'\n",
                "]"
            ]
        },
        {
            "cell_type": "markdown",
            "id": "35c74f6b",
            "metadata": {},
            "source": [
                "## QPU sub-task\n",
                "\n",
                "The electron defined in the cell below will be executed on an IBM QPU.\n",
                "\n",
                "For instructions, see the [Pennylane documentation](https://docs.pennylane.ai/projects/qiskit/en/latest/devices/ibmq.html)."
            ]
        },
        {
            "cell_type": "code",
            "execution_count": null,
            "id": "ce53ce49",
            "metadata": {},
            "outputs": [],
            "source": [
                "# a projector onto the state |00> -- i.e. the matrix |00><00|\n",
                "OPERATOR = qml.Hermitian(np.array([[1., 0., 0., 0.],\n",
                "                                   [0., 0., 0., 0.],\n",
                "                                   [0., 0., 0., 0.],\n",
                "                                   [0., 0., 0., 0.]]), wires=range(2))\n",
                "\n",
                "# ------------------------------------------------------------------------------\n",
                "# PROMPT \n",
                "#\n",
                "# The code below runs the quantum kernel computation on a local simulator.\n",
                "# Modify this code to instead use an IBM Quantum device backend.\n",
                "#\n",
                "# ------------------------------------------------------------------------------\n",
                "dev = qml.device(\"lightning.qubit\", wires=2, shots=1000)  # local simulator\n",
                "\n",
                "@ct.electron\n",
                "@qml.qnode(dev)\n",
                "def qkernel_circuit(x1, x2):\n",
                "    \"\"\"evaluate the quantum kernel circuit on a pair of data points\"\"\"\n",
                "\n",
                "    qml.AngleEmbedding(features=x1, wires=range(2))\n",
                "    qml.adjoint(qml.AngleEmbedding)(features=x2, wires=range(2))\n",
                "\n",
                "    # estimate expectation value of `OPERATOR` over 1000 measurement samples\n",
                "    return qml.expval(OPERATOR)\n"
            ]
        },
        {
            "cell_type": "markdown",
            "id": "aec4040b",
            "metadata": {},
            "source": [
                "## Local sub-tasks\n",
                "\n",
                "These electrons will be executed locally."
            ]
        },
        {
            "cell_type": "code",
            "execution_count": null,
            "id": "a4d949b7",
            "metadata": {},
            "outputs": [],
            "source": [
                "@ct.electron\n",
                "def get_data():\n",
                "    \"\"\"load reduced 'wine recognition' data and select desired columns\"\"\"\n",
                "    features, labels = load_wine(return_X_y=True)\n",
                "    X = features[:, 9:11]  # pick out columns \"colour intensity\" and \"hue\"\n",
                "    y = labels\n",
                "    \n",
                "    # neglect third class\n",
                "    idx = (y < 2)\n",
                "    y = y[idx]\n",
                "    X = X[idx]\n",
                "\n",
                "    scaler = MinMaxScaler((0, 2 * PI))\n",
                "    scaler.fit(X)\n",
                "\n",
                "    return scaler.transform(X), y\n",
                "\n",
                "\n",
                "@ct.electron\n",
                "def partition_data(X, y):\n",
                "    \"\"\"perform a train/test split\"\"\"\n",
                "    _, X0, _, y0 = train_test_split(X, y,\n",
                "                                    test_size=N_TOT / len(X),\n",
                "                                    random_state=RANDOM_SEED,\n",
                "                                    stratify=y)\n",
                "\n",
                "    X_train, X_test, y_train, y_test = train_test_split(X0, y0,\n",
                "                                                        test_size=N_TEST / N_TOT,\n",
                "                                                        random_state=RANDOM_SEED,\n",
                "                                                        stratify=y0)\n",
                "    return X_train, X_test, y_train, y_test\n",
                "\n",
                "\n",
                "@ct.electron\n",
                "def construct_K_matrix(K_values, X1, X2):\n",
                "    \"\"\"return a blank kernel matrix for the array of data points\"\"\"\n",
                "    n1 = len(X1)\n",
                "    n2 = len(X2)\n",
                "    return np.array(K_values).reshape((n1, n2))\n",
                "\n",
                "\n",
                "@ct.electron\n",
                "def train_qsvm(K_matrix_train, y_train):\n",
                "    \"\"\"train the support-vector classifier (SVC)\"\"\"\n",
                "    svc = SVC()\n",
                "    svc.fit(K_matrix_train, y_train)\n",
                "    return svc\n",
                "\n",
                "\n",
                "@ct.electron\n",
                "def get_metrics(trained_svc, K_matrix_test, y_test):\n",
                "    \"\"\"compute classifier metrics\"\"\"\n",
                "    y_pred = trained_svc.predict(K_matrix_test)\n",
                "    return y_pred, confusion_matrix(y_test, y_pred)"
            ]
        },
        {
            "cell_type": "markdown",
            "id": "05ec5563",
            "metadata": {},
            "source": [
                "## Workflow"
            ]
        },
        {
            "cell_type": "code",
            "execution_count": null,
            "id": "1f4127fa",
            "metadata": {},
            "outputs": [],
            "source": [
                "@ct.lattice\n",
                "def workflow():\n",
                "    \"\"\"get the data, partition it, and train SVC on it\"\"\"\n",
                "    \n",
                "    # load data and partition it\n",
                "    X, y = get_data()\n",
                "    X_train, X_test, y_train, y_test = partition_data(X, y)\n",
                "    \n",
                "    # individually compute kernel matrix elements on the QPU\n",
                "    K_train_values = []\n",
                "    for i in range(N_TRAIN):\n",
                "        for j in range(N_TRAIN):\n",
                "            kernel_value = qkernel_circuit(X_train[i], X_train[j])\n",
                "            K_train_values.append(kernel_value)\n",
                "\n",
                "    K_test_values = []\n",
                "    for i in range(N_TEST):\n",
                "        for j in range(N_TRAIN):\n",
                "            kernel_value = qkernel_circuit(X_test[i], X_train[j])\n",
                "            K_test_values.append(kernel_value)\n",
                "    \n",
                "    # construct kernel matrices from results\n",
                "    K_matrix_train = construct_K_matrix(K_train_values, X_train, X_train)\n",
                "    K_matrix_test = construct_K_matrix(K_test_values, X_test, X_train)\n",
                "    \n",
                "    # train the classifier\n",
                "    trained_svc = train_qsvm(K_matrix_train, y_train)\n",
                "    \n",
                "    # get predictions and confusion matrix\n",
                "    y_pred, M_conf = get_metrics(trained_svc, K_matrix_test, y_test)\n",
                "\n",
                "    return (X_train, X_test, y_train, y_test), y_pred, M_conf"
            ]
        },
        {
            "cell_type": "markdown",
            "id": "a05d53c3",
            "metadata": {},
            "source": [
                "## Dispatch"
            ]
        },
        {
            "cell_type": "code",
            "execution_count": null,
            "id": "047c4f94",
            "metadata": {},
            "outputs": [],
            "source": [
                "dispatch_id = ct.dispatch(workflow)()\n",
                "result = ct.get_result(dispatch_id, wait=True)\n",
                "\n",
                "# unpack result\n",
                "data, y_pred, M_conf = result.result"
            ]
        },
        {
            "cell_type": "markdown",
            "id": "685b55e2",
            "metadata": {},
            "source": [
                "## Processing and displaying results"
            ]
        },
        {
            "cell_type": "code",
            "execution_count": null,
            "id": "f0206744",
            "metadata": {},
            "outputs": [],
            "source": [
                "X_train, X_test, y_train, y_test = data\n",
                "\n",
                "names = (\"cultivator 'R'\",\n",
                "         \"cultivator 'G'\")\n",
                "\n",
                "colors = (\"r\", \"g\")\n",
                "\n",
                "for i in range(2):\n",
                "    plt.scatter(X_train[:, 0][y_train == i], X_train[:, 1]\n",
                "                [y_train == i], c=colors[i], s=100)\n",
                "\n",
                "idx = np.equal(y_pred, y_test)\n",
                "\n",
                "for i in range(2):\n",
                "    # correct\n",
                "    plt.scatter(X_test[:, 0][np.logical_and(y_test == i, idx)],\n",
                "                X_test[:, 1][np.logical_and(y_test == i, idx)],\n",
                "                c='w', marker='^', s=200, edgecolors=colors[i], label=names[i])\n",
                "\n",
                "    # incorrect\n",
                "    plt.scatter(X_test[:, 0][np.logical_and(y_test == i, ~idx)],\n",
                "                X_test[:, 1][np.logical_and(y_test == i, ~idx)],\n",
                "                s=200, c=colors[i], marker='x')\n",
                "\n",
                "\n",
                "plt.title(\"wine colour metrics\", fontsize=16)\n",
                "plt.xlabel(\"intensity (scaled)\", fontsize=13)\n",
                "plt.ylabel(\"hue (scaled)\", fontsize=13)\n",
                "plt.grid()\n",
                "plt.legend(fontsize=15)\n",
                "plt.show()\n",
                "\n",
                "\n",
                "ConfusionMatrixDisplay(M_conf, display_labels=[\"ctvr. R\",\n",
                "                                               \"ctvr. G\"]).plot()"
            ]
        }
    ],
    "metadata": {
        "kernelspec": {
            "display_name": "Python 3.8.13 ('qsite')",
            "language": "python",
            "name": "python3"
        },
        "language_info": {
            "codemirror_mode": {
                "name": "ipython",
                "version": 3
            },
            "file_extension": ".py",
            "mimetype": "text/x-python",
            "name": "python",
            "nbconvert_exporter": "python",
            "pygments_lexer": "ipython3",
            "version": "3.8.13"
        },
        "vscode": {
            "interpreter": {
                "hash": "e6c6f3e8bf7a0cf4cdead1ba4ca4e1354ad6367ca466818196740cbbf51269cb"
            }
        }
    },
    "nbformat": 4,
    "nbformat_minor": 5
}
