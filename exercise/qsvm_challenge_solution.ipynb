{
 "cells": [
  {
   "cell_type": "markdown",
   "id": "54d376b2",
   "metadata": {},
   "source": [
    "# *Solution*"
   ]
  },
  {
   "cell_type": "markdown",
   "id": "b5b94ae5",
   "metadata": {},
   "source": [
    "# An SVM classifier with a quantum kernel... on real quantum hardware!"
   ]
  },
  {
   "cell_type": "markdown",
   "id": "34d7cd29",
   "metadata": {},
   "source": [
    "## Install some packages\n",
    "\n",
    "| package | Description |\n",
    "| ------- | ----------- |\n",
    "|`scikit-learn`| classical SVM implementation|\n",
    "|`pennylane` | quantum programming framework and simulator|\n",
    "|`matplotlib`| plotting library|\n"
   ]
  },
  {
   "cell_type": "code",
   "execution_count": null,
   "id": "b1ffbeb8",
   "metadata": {},
   "outputs": [],
   "source": [
    "# !python -m pip install scikit-learn\n",
    "# !python -m pip install pennylane\n",
    "# !python -m pip install pennylane-qiskit\n",
    "# !python -m pip install matplotlib\n",
    "# !python -m pip install covalent"
   ]
  },
  {
   "cell_type": "markdown",
   "id": "932af1d2",
   "metadata": {},
   "source": [
    "## Imports"
   ]
  },
  {
   "cell_type": "code",
   "execution_count": null,
   "id": "92ba7a9f",
   "metadata": {},
   "outputs": [],
   "source": [
    "import random\n",
    "from math import pi as PI\n",
    "\n",
    "import covalent as ct\n",
    "import matplotlib.pyplot as plt\n",
    "import numpy as np\n",
    "import pennylane as qml\n",
    "from pennylane import numpy as np\n",
    "from sklearn.datasets import load_wine\n",
    "from sklearn.metrics import ConfusionMatrixDisplay, confusion_matrix\n",
    "from sklearn.model_selection import train_test_split\n",
    "from sklearn.preprocessing import MinMaxScaler\n",
    "from sklearn.svm import SVC"
   ]
  },
  {
   "cell_type": "markdown",
   "id": "831fd123",
   "metadata": {},
   "source": [
    "## Data for our example\n",
    "\n",
    "For compatibility with freely-available quantum hardware, we reduce the 'wine recognition' dataset to 6 training and 2 testing samples. Additionally, only two cultivators are considered, 'R' and 'G'.\n",
    "\n",
    "This data reproduced by the `get_data` electron (with `RANDOM_SEED = 2022`) in the [Local sub tasks](#local-sub-tasks) section.\n",
    "\n",
    "**We pursue the same goal in this toy example:** recognize the cultivator based on the wine's *hue* and *colour intensity*.\n",
    "\n",
    "<img src=\"http://drive.google.com/uc?export=view&id=10n4ASvh2SXSijqv-PozPtvI1u7AQbgDi\">"
   ]
  },
  {
   "cell_type": "markdown",
   "id": "0c6788f4",
   "metadata": {},
   "source": [
    "# Settings\n",
    "\n",
    "paste the API token below"
   ]
  },
  {
   "cell_type": "code",
   "execution_count": null,
   "id": "35dd8768",
   "metadata": {},
   "outputs": [],
   "source": [
    "IBM_Q_API_TOKEN = \"paste-your-API-token-here\""
   ]
  },
  {
   "cell_type": "markdown",
   "id": "c81a2aac",
   "metadata": {},
   "source": [
    "no need to modify any of the following settings"
   ]
  },
  {
   "cell_type": "code",
   "execution_count": null,
   "id": "f5a129ac",
   "metadata": {},
   "outputs": [],
   "source": [
    "N_TEST = 2\n",
    "N_TRAIN = 6\n",
    "N_TOT = N_TEST + N_TRAIN\n",
    "\n",
    "RANDOM_SEED = 2022\n",
    "\n",
    "IBM_HARDWARE_BACKENDS = [\n",
    "    'ibmq_lima',\n",
    "    'ibmq_belem',\n",
    "    'ibmq_quito',\n",
    "    'ibmq_manila',\n",
    "    'ibm_nairobi',\n",
    "    'ibm_oslo'\n",
    "]"
   ]
  },
  {
   "cell_type": "markdown",
   "id": "35c74f6b",
   "metadata": {},
   "source": [
    "## QPU sub-task\n",
    "\n",
    "The electron defined in the cell below will be executed on an IBM QPU.\n",
    "\n",
    "For instructions, see the [Pennylane documentation](https://docs.pennylane.ai/projects/qiskit/en/latest/devices/ibmq.html)."
   ]
  },
  {
   "cell_type": "code",
   "execution_count": null,
   "id": "ce53ce49",
   "metadata": {},
   "outputs": [],
   "source": [
    "# a projector onto the state |00> -- i.e. the matrix |00><00|\n",
    "OPERATOR = qml.Hermitian(np.array([[1., 0., 0., 0.],\n",
    "                                   [0., 0., 0., 0.],\n",
    "                                   [0., 0., 0., 0.],\n",
    "                                   [0., 0., 0., 0.]]), wires=range(2))\n",
    "\n",
    "# ------------------------------------------------------------------------------\n",
    "# SOLUTION \n",
    "#\n",
    "# We've taken things a step further and written an electron that randomly\n",
    "# distributes our QPU calls among available IBM devices. This will be faster\n",
    "# than executing on a single device, since the tasks will not impede one another\n",
    "# in the queue.\n",
    "#\n",
    "# ------------------------------------------------------------------------------\n",
    "def _qkernel_circuit(x1, x2):\n",
    "    \"\"\"evaluate the quantum kernel circuit on a pair of data points\"\"\"\n",
    "\n",
    "    qml.AngleEmbedding(features=x1, wires=range(2))\n",
    "    qml.adjoint(qml.AngleEmbedding)(features=x2, wires=range(2))\n",
    "\n",
    "    # estimate expectation value of `OPERATOR`\n",
    "    return qml.expval(OPERATOR)\n",
    "\n",
    "@ct.electron\n",
    "def qkernel_circuit(x1, x2, backend_name=None):\n",
    "    if backend_name is None:\n",
    "        # pick a random hardware backend\n",
    "        backend_name = random.sample(IBM_HARDWARE_BACKENDS, 1)[0]\n",
    "\n",
    "    # initialize device\n",
    "    dev = qml.device('qiskit.ibmq', wires=2, backend=backend_name,\n",
    "                     ibmqx_token=IBM_Q_API_TOKEN)\n",
    "    \n",
    "    # associate `_qkernel_circuit` with the device\n",
    "    f_qkernel_circuit = qml.QNode(_qkernel_circuit, dev)\n",
    "    return f_qkernel_circuit(x1, x2)\n"
   ]
  },
  {
   "cell_type": "markdown",
   "id": "aec4040b",
   "metadata": {},
   "source": [
    "## Local sub-tasks\n",
    "\n",
    "These electrons will be executed locally."
   ]
  },
  {
   "cell_type": "code",
   "execution_count": null,
   "id": "a4d949b7",
   "metadata": {},
   "outputs": [],
   "source": [
    "@ct.electron\n",
    "def get_data():\n",
    "    \"\"\"load reduced 'wine recognition' data and select desired columns\"\"\"\n",
    "    features, labels = load_wine(return_X_y=True)\n",
    "    X = features[:, 9:11]  # pick out columns \"colour intensity\" and \"hue\"\n",
    "    y = labels\n",
    "    \n",
    "    # neglect third class\n",
    "    idx = (y < 2)\n",
    "    y = y[idx]\n",
    "    X = X[idx]\n",
    "\n",
    "    scaler = MinMaxScaler((0, 2 * PI))\n",
    "    scaler.fit(X)\n",
    "\n",
    "    return scaler.transform(X), y\n",
    "\n",
    "\n",
    "@ct.electron\n",
    "def partition_data(X, y):\n",
    "    \"\"\"perform a train/test split\"\"\"\n",
    "    _, X0, _, y0 = train_test_split(X, y,\n",
    "                                    test_size=N_TOT / len(X),\n",
    "                                    random_state=RANDOM_SEED,\n",
    "                                    stratify=y)\n",
    "\n",
    "    X_train, X_test, y_train, y_test = train_test_split(X0, y0,\n",
    "                                                        test_size=N_TEST / N_TOT,\n",
    "                                                        random_state=RANDOM_SEED,\n",
    "                                                        stratify=y0)\n",
    "    return X_train, X_test, y_train, y_test\n",
    "\n",
    "\n",
    "@ct.electron\n",
    "def construct_K_matrix(K_values, X1, X2):\n",
    "    \"\"\"return a blank kernel matrix for the array of data points\"\"\"\n",
    "    n1 = len(X1)\n",
    "    n2 = len(X2)\n",
    "    return np.array(K_values).reshape((n1, n2))\n",
    "\n",
    "\n",
    "@ct.electron\n",
    "def train_qsvm(K_matrix_train, y_train):\n",
    "    \"\"\"train the support-vector classifier (SVC)\"\"\"\n",
    "    svc = SVC()\n",
    "    svc.fit(K_matrix_train, y_train)\n",
    "    return svc\n",
    "\n",
    "\n",
    "@ct.electron\n",
    "def get_metrics(trained_svc, K_matrix_test, y_test):\n",
    "    \"\"\"compute classifier metrics\"\"\"\n",
    "    y_pred = trained_svc.predict(K_matrix_test)\n",
    "    return y_pred, confusion_matrix(y_test, y_pred)"
   ]
  },
  {
   "cell_type": "markdown",
   "id": "05ec5563",
   "metadata": {},
   "source": [
    "## Workflow"
   ]
  },
  {
   "cell_type": "code",
   "execution_count": null,
   "id": "1f4127fa",
   "metadata": {},
   "outputs": [],
   "source": [
    "@ct.lattice\n",
    "def workflow():\n",
    "    \"\"\"get the data, partition it, and train SVC on it\"\"\"\n",
    "    \n",
    "    # load data and partition it\n",
    "    X, y = get_data()\n",
    "    X_train, X_test, y_train, y_test = partition_data(X, y)\n",
    "    \n",
    "    # individually compute kernel matrix elements on the QPU\n",
    "    K_train_values = []\n",
    "    for i in range(N_TRAIN):\n",
    "        for j in range(N_TRAIN):\n",
    "            kernel_value = qkernel_circuit(X_train[i], X_train[j])\n",
    "            K_train_values.append(kernel_value)\n",
    "\n",
    "    K_test_values = []\n",
    "    for i in range(N_TEST):\n",
    "        for j in range(N_TRAIN):\n",
    "            kernel_value = qkernel_circuit(X_test[i], X_train[j])\n",
    "            K_test_values.append(kernel_value)\n",
    "    \n",
    "    # construct kernel matrices from results\n",
    "    K_matrix_train = construct_K_matrix(K_train_values, X_train, X_train)\n",
    "    K_matrix_test = construct_K_matrix(K_test_values, X_test, X_train)\n",
    "    \n",
    "    # train the classifier\n",
    "    trained_svc = train_qsvm(K_matrix_train, y_train)\n",
    "    \n",
    "    # get predictions and confusion matrix\n",
    "    y_pred, M_conf = get_metrics(trained_svc, K_matrix_test, y_test)\n",
    "\n",
    "    return (X_train, X_test, y_train, y_test), y_pred, M_conf"
   ]
  },
  {
   "cell_type": "markdown",
   "id": "a05d53c3",
   "metadata": {},
   "source": [
    "## Dispatch"
   ]
  },
  {
   "cell_type": "code",
   "execution_count": null,
   "id": "047c4f94",
   "metadata": {},
   "outputs": [],
   "source": [
    "# multi-threaded execution using covalent\n",
    "dispatch_id = ct.dispatch(workflow)()\n",
    "result = ct.get_result(dispatch_id, wait=True)\n",
    "\n",
    "# unpack result\n",
    "data, y_pred, M_conf = result.result"
   ]
  },
  {
   "cell_type": "markdown",
   "id": "685b55e2",
   "metadata": {},
   "source": [
    "## Processing and displaying results"
   ]
  },
  {
   "cell_type": "code",
   "execution_count": null,
   "id": "f0206744",
   "metadata": {},
   "outputs": [],
   "source": [
    "X_train, X_test, y_train, y_test = data\n",
    "\n",
    "names = (\"cultivator 'R'\",\n",
    "         \"cultivator 'G'\")\n",
    "\n",
    "colors = (\"r\", \"g\")\n",
    "\n",
    "for i in range(2):\n",
    "    plt.scatter(X_train[:, 0][y_train == i], X_train[:, 1]\n",
    "                [y_train == i], c=colors[i], s=100)\n",
    "\n",
    "idx = np.equal(y_pred, y_test)\n",
    "\n",
    "for i in range(2):\n",
    "    # correct\n",
    "    plt.scatter(X_test[:, 0][np.logical_and(y_test == i, idx)],\n",
    "                X_test[:, 1][np.logical_and(y_test == i, idx)],\n",
    "                c='w', marker='^', s=200, edgecolors=colors[i], label=names[i])\n",
    "\n",
    "    # incorrect\n",
    "    plt.scatter(X_test[:, 0][np.logical_and(y_test == i, ~idx)],\n",
    "                X_test[:, 1][np.logical_and(y_test == i, ~idx)],\n",
    "                s=200, c=colors[i], marker='x')\n",
    "\n",
    "\n",
    "plt.title(\"wine colour metrics\", fontsize=16)\n",
    "plt.xlabel(\"intensity (scaled)\", fontsize=13)\n",
    "plt.ylabel(\"hue (scaled)\", fontsize=13)\n",
    "plt.grid()\n",
    "plt.legend(fontsize=15)\n",
    "plt.show()\n",
    "\n",
    "\n",
    "ConfusionMatrixDisplay(M_conf, display_labels=[\"ctvr. R\",\n",
    "                                               \"ctvr. G\"]).plot()"
   ]
  }
 ],
 "metadata": {
  "kernelspec": {
   "display_name": "Python 3.8.13 ('qsite')",
   "language": "python",
   "name": "python3"
  },
  "language_info": {
   "codemirror_mode": {
    "name": "ipython",
    "version": 3
   },
   "file_extension": ".py",
   "mimetype": "text/x-python",
   "name": "python",
   "nbconvert_exporter": "python",
   "pygments_lexer": "ipython3",
   "version": "3.8.13"
  },
  "vscode": {
   "interpreter": {
    "hash": "e6c6f3e8bf7a0cf4cdead1ba4ca4e1354ad6367ca466818196740cbbf51269cb"
   }
  }
 },
 "nbformat": 4,
 "nbformat_minor": 5
}
