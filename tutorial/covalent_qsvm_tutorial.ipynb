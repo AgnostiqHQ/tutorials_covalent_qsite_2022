{
 "cells": [
  {
   "cell_type": "markdown",
   "id": "b5b94ae5",
   "metadata": {},
   "source": [
    "# An SVM classifier with a quantum kernel\n",
    "\n",
    "...using Pennylane's `'lightning.qubit'` simulator."
   ]
  },
  {
   "cell_type": "code",
   "execution_count": null,
   "id": "7934e3ba",
   "metadata": {},
   "outputs": [],
   "source": [
    "from math import pi as PI\n",
    "\n",
    "import covalent as ct\n",
    "import matplotlib.pyplot as plt\n",
    "import pennylane as qml\n",
    "from pennylane import numpy as np\n",
    "from sklearn.datasets import load_wine\n",
    "from sklearn.metrics import ConfusionMatrixDisplay, confusion_matrix\n",
    "from sklearn.model_selection import train_test_split\n",
    "from sklearn.preprocessing import MinMaxScaler\n",
    "from sklearn.svm import SVC"
   ]
  },
  {
   "cell_type": "markdown",
   "id": "831fd123",
   "metadata": {},
   "source": [
    "## Data for our example\n",
    "\n",
    "We use the 'wine recognition' dataset: 13 properties for 178 wines, each produced by one of three cultivators, 'R', 'G', and 'B'.\n",
    "\n",
    "**Our goal:** recognize the cultivator based on the wine's *hue* and *colour intensity*.\n",
    "\n",
    "<img src=\"http://drive.google.com/uc?export=view&id=1huR0dopjJIHCakkdjimIxEtBLreI2ryP\">"
   ]
  },
  {
   "cell_type": "markdown",
   "id": "c25532d3",
   "metadata": {},
   "source": [
    "## Settings"
   ]
  },
  {
   "cell_type": "code",
   "execution_count": null,
   "id": "0f9c7b06",
   "metadata": {},
   "outputs": [],
   "source": [
    "RANDOM_SEED = 2022\n",
    "np.random.seed(RANDOM_SEED)"
   ]
  },
  {
   "cell_type": "markdown",
   "id": "b6186e6a",
   "metadata": {},
   "source": [
    "## Quantum kernel definition"
   ]
  },
  {
   "cell_type": "markdown",
   "id": "f9f6109f",
   "metadata": {},
   "source": [
    "Our kernel circuit estimates the probability of finding the state $|00\\rangle$ upon measurement.\n",
    "\n",
    "The measurement is characterized by an *operator* (matrix),\n",
    "\n",
    "$\n",
    "\\begin{align}\n",
    "\\hat{P} = |00\\rangle\\langle00| = \\begin{pmatrix}1\\\\ 0\\\\ 0\\\\ 0\\\\\\end{pmatrix}\\begin{pmatrix}1 & 0 & 0 & 0\\end{pmatrix} = \\begin{pmatrix}1 & 0 & 0 & 0\\\\ 0 & 0 & 0 & 0\\\\ 0 & 0 & 0 & 0\\\\ 0 & 0 & 0 & 0\\end{pmatrix}\n",
    "\\end{align}\n",
    "$"
   ]
  },
  {
   "cell_type": "code",
   "execution_count": null,
   "id": "17a57d01",
   "metadata": {},
   "outputs": [],
   "source": [
    "# a projector onto the state |00> -- i.e. the matrix |00><00|\n",
    "OPERATOR = qml.Hermitian(np.array([[1., 0., 0., 0.],\n",
    "                                   [0., 0., 0., 0.],\n",
    "                                   [0., 0., 0., 0.],\n",
    "                                   [0., 0., 0., 0.]]), wires=range(2))\n",
    "\n",
    "# random parameters (\\theta) for the quantum circuit \n",
    "CIRCUIT_PARAMS = np.random.uniform(0., 2 * PI, qml.QAOAEmbedding.shape(1, 2))\n",
    "\n",
    "\n",
    "# initialize a quantum device to execute kernel circuit\n",
    "DEVICE = qml.device(\"lightning.qubit\", wires=2, shots=1000)\n",
    "\n",
    "\n",
    "@qml.qnode(DEVICE)\n",
    "def qkernel_circuit(x1, x2):\n",
    "    \"\"\"evaluate the quantum kernel circuit on a pair of data points\"\"\"\n",
    "    \n",
    "    qml.QAOAEmbedding(features=x1,\n",
    "                      weights=CIRCUIT_PARAMS,\n",
    "                      wires=range(2))  # encoding x1\n",
    "\n",
    "    qml.adjoint(qml.QAOAEmbedding)(features=x2,\n",
    "                                   weights=CIRCUIT_PARAMS,\n",
    "                                   wires=range(2))  # encoding x2\n",
    "\n",
    "    # estimate expectation value of `OPERATOR` over 1000 measurement samples\n",
    "    return qml.expval(OPERATOR)\n"
   ]
  },
  {
   "cell_type": "markdown",
   "id": "5206a630",
   "metadata": {},
   "source": [
    "##### Sanity check\n",
    "\n",
    "* $\\kappa(x_1, x_1) = 1$\n",
    "\n",
    "* $0 \\leq \\kappa(x_1, x_2) < 1\\quad$ if $\\quad x_1 \\neq x_2$\n",
    "\n",
    "* $\\kappa(x_1, x_2) \\approx \\kappa(x_2, x_1)$\n",
    "\n"
   ]
  },
  {
   "cell_type": "code",
   "execution_count": null,
   "id": "21bca774",
   "metadata": {},
   "outputs": [],
   "source": [
    "x1 = [10.142022, 3.151827]\n",
    "x2 = [42.1978, 1.1937]\n",
    "\n",
    "print(\"quantum kernel circuit with `x1 == x2`\\n\")\n",
    "print(qkernel_circuit(x1, x1))\n",
    "print(qkernel_circuit(x2, x2))\n",
    "print()\n",
    "print(\"quantum kernel circuit on dissimilar inputs (x1, x2) and (x2, x1)\\n\")\n",
    "for i in range(5):\n",
    "    print(qkernel_circuit(x1, x2), \"~\", qkernel_circuit(x2, x1))"
   ]
  },
  {
   "cell_type": "markdown",
   "id": "42b9d1ab",
   "metadata": {},
   "source": [
    "## Sub-tasks\n",
    "\n",
    "Using `covalent` to organize granular processes"
   ]
  },
  {
   "cell_type": "code",
   "execution_count": null,
   "id": "a4d949b7",
   "metadata": {},
   "outputs": [],
   "source": [
    "@ct.electron\n",
    "def get_data():\n",
    "    \"\"\"load 'wine' data and select desired columns\"\"\"\n",
    "    features, labels = load_wine(return_X_y=True)\n",
    "    X = features[:, 9:11]  # pick out columns \"colour intensity\" and \"hue\"\n",
    "    y = labels\n",
    "\n",
    "    scaler = MinMaxScaler((0, 2 * PI))\n",
    "    scaler.fit(X)\n",
    "\n",
    "    return scaler.transform(X), y\n",
    "\n",
    "\n",
    "@ct.electron\n",
    "def partition_data(X, y):\n",
    "    \"\"\"perform a train/test split\"\"\"\n",
    "    X_train, X_test, y_train, y_test = train_test_split(X, y,\n",
    "                                                        test_size=0.25,\n",
    "                                                        random_state=RANDOM_SEED,\n",
    "                                                        stratify=y)\n",
    "    return X_train, X_test, y_train, y_test\n",
    "\n",
    "\n",
    "@ct.electron\n",
    "def qkernel_matrix(X1, X2):\n",
    "    \"\"\"evaluate the quantum kernel circuit over all pairs of data points\"\"\"\n",
    "    return np.array([[qkernel_circuit(x1, x2) for x2 in X2] for x1 in X1])\n",
    "\n",
    "\n",
    "@ct.electron\n",
    "def train_qsvm(K_matrix_train, y_train):\n",
    "    \"\"\"train the support-vector classifier (SVC)\"\"\"\n",
    "    svc = SVC()\n",
    "    svc.fit(K_matrix_train, y_train)\n",
    "    return svc\n",
    "\n",
    "\n",
    "@ct.electron\n",
    "def get_metrics(trained_svc, K_matrix_test, y_test):\n",
    "    \"\"\"compute classifier metrics\"\"\"\n",
    "    y_pred = trained_svc.predict(K_matrix_test)\n",
    "    return y_pred, confusion_matrix(y_test, y_pred)"
   ]
  },
  {
   "cell_type": "markdown",
   "id": "05ec5563",
   "metadata": {},
   "source": [
    "## Workflow"
   ]
  },
  {
   "cell_type": "code",
   "execution_count": null,
   "id": "1f4127fa",
   "metadata": {},
   "outputs": [],
   "source": [
    "@ct.lattice\n",
    "def workflow():\n",
    "    \"\"\"get the data, partition it, and train SVC on it\"\"\"\n",
    "    \n",
    "    # load data and partition it\n",
    "    X, y = get_data()\n",
    "    X_train, X_test, y_train, y_test = partition_data(X, y)\n",
    "\n",
    "    # compute train and test matrices\n",
    "    K_matrix_train = qkernel_matrix(X_train, X_train)\n",
    "    K_matrix_test = qkernel_matrix(X_test, X_train)\n",
    "    \n",
    "    # train the classifier\n",
    "    trained_svc = train_qsvm(K_matrix_train, y_train)\n",
    "    \n",
    "    # get predictions and confusion matrix\n",
    "    y_pred, M_conf = get_metrics(trained_svc, K_matrix_test, y_test)\n",
    "\n",
    "    return (X_train, X_test, y_train, y_test), y_pred, M_conf"
   ]
  },
  {
   "cell_type": "markdown",
   "id": "a05d53c3",
   "metadata": {},
   "source": [
    "## Dispatch"
   ]
  },
  {
   "cell_type": "code",
   "execution_count": null,
   "id": "047c4f94",
   "metadata": {},
   "outputs": [],
   "source": [
    "# multi-threaded execution using covalent\n",
    "dispatch_id = ct.dispatch(workflow)()\n",
    "print(f\"dispatch id: {dispatch_id}\")\n",
    "result = ct.get_result(dispatch_id, wait=True)\n",
    "\n",
    "# unpack result\n",
    "data, y_pred, M_conf = result.result"
   ]
  },
  {
   "cell_type": "markdown",
   "id": "839fa5fd",
   "metadata": {},
   "source": [
    "navigate to the covalent UI (open [localhost:48008](http://localhost:48008) in your browser) to monitor execution\n",
    "\n",
    "<img src=\"http://drive.google.com/uc?export=view&id=1j3-rDHvmb99FxoqyMtypjdEgte0PbBSp\" width=\"1000\" />"
   ]
  },
  {
   "cell_type": "markdown",
   "id": "a3ffe322",
   "metadata": {},
   "source": [
    "select the row corresponding to `dispatch_id` to view the transport graph\n",
    "\n",
    "<img src=\"http://drive.google.com/uc?export=view&id=1Dj76FbP1_cnzuMw5ljTFCf23hxygWdIZ\" width=\"1000\" />"
   ]
  },
  {
   "cell_type": "markdown",
   "id": "685b55e2",
   "metadata": {},
   "source": [
    "## Processing and displaying results"
   ]
  },
  {
   "cell_type": "code",
   "execution_count": null,
   "id": "f0206744",
   "metadata": {},
   "outputs": [],
   "source": [
    "\n",
    "X_train, X_test, y_train, y_test = data\n",
    "\n",
    "names = (\"cultivator 'R'\",\n",
    "         \"cultivator 'G'\",\n",
    "         \"cultivator 'B'\")\n",
    "\n",
    "colors = (\"r\", \"g\", \"b\")\n",
    "\n",
    "for i in range(3):\n",
    "    plt.scatter(X_train[:, 0][y_train == i], X_train[:, 1]\n",
    "                [y_train == i], c=colors[i], s=2)\n",
    "\n",
    "idx = np.equal(y_pred, y_test)\n",
    "\n",
    "for i in range(3):\n",
    "    # correct\n",
    "    plt.scatter(X_test[:, 0][np.logical_and(y_test == i, idx)],\n",
    "                X_test[:, 1][np.logical_and(y_test == i, idx)],\n",
    "                c='w', marker='^', edgecolors=colors[i], label=names[i])\n",
    "\n",
    "    # incorrect\n",
    "    plt.scatter(X_test[:, 0][np.logical_and(y_test == i, ~idx)],\n",
    "                X_test[:, 1][np.logical_and(y_test == i, ~idx)],\n",
    "                c=colors[i], marker='x')\n",
    "\n",
    "\n",
    "plt.title(\"wine colour metrics\", fontsize=16)\n",
    "plt.xlabel(\"intensity (scaled)\", fontsize=13)\n",
    "plt.ylabel(\"hue (scaled)\", fontsize=13)\n",
    "plt.grid()\n",
    "plt.legend(fontsize=15)\n",
    "plt.show()\n",
    "\n",
    "ConfusionMatrixDisplay(M_conf, display_labels=[\"ctvr. R\",\n",
    "                                               \"ctvr. G\",\n",
    "                                               \"ctvr. B\"]).plot()"
   ]
  },
  {
   "cell_type": "code",
   "execution_count": null,
   "id": "0cc0416a",
   "metadata": {},
   "outputs": [],
   "source": []
  }
 ],
 "metadata": {
  "kernelspec": {
   "display_name": "Python 3.8.13 ('qsite_covalent')",
   "language": "python",
   "name": "python3"
  },
  "language_info": {
   "codemirror_mode": {
    "name": "ipython",
    "version": 3
   },
   "file_extension": ".py",
   "mimetype": "text/x-python",
   "name": "python",
   "nbconvert_exporter": "python",
   "pygments_lexer": "ipython3",
   "version": "3.8.13"
  },
  "vscode": {
   "interpreter": {
    "hash": "8397326a802093de2cab9ca9d777b0d7d19720e9ff185853d6ec21e49f91ee0e"
   }
  }
 },
 "nbformat": 4,
 "nbformat_minor": 5
}
